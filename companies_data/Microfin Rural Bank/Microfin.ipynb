{
 "cells": [
  {
   "cell_type": "code",
   "execution_count": 32,
   "id": "cff44c9e",
   "metadata": {},
   "outputs": [],
   "source": [
    "from faker import Faker\n",
    "import pandas as pd\n",
    "fake = Faker(locale='tw_GH')\n",
    "\n",
    "\n",
    "def microfin(num_customers):\n",
    "    customer_list = []\n",
    "    for i in range(1,num_customers):\n",
    "        customer = {}\n",
    "        customer['First_name'] = fake.first_name()\n",
    "        customer['Last_name']  = fake.first_name()\n",
    "        customer['Email']    = fake.email()\n",
    "        customer['Phone_number'] = fake.phone_number()\n",
    "        customer['Gender'] = fake.random_element(elements=(\"Male\", \"Female\"))\n",
    "        customer['Contact_preference'] = fake.random_element(elements=(\"SMS\", \"Email\", \"Call\"))\n",
    "        customer['Customer_preference'] = fake.random_element(elements=(\"App\", \"Website\", \"In-Office\"))\n",
    "        customer['City'] = fake.city()\n",
    "        customer['Address'] = fake.address()\n",
    "        customer['Product_Choice'] = fake.random_element(elements=(\"Deposit\", \"Loans\", \"Digital Banking\", \"Remittance\"))\n",
    "        customer['Branch'] = fake.random_element(elements=(\"Pomadzi\", \"Kasoa\", \"Mankessim\"))\n",
    "        customer['Transaction_activity'] = fake.random_int(min=0, max=100000)\n",
    "        customer_list.append(customer)\n",
    "    return pd.DataFrame(customer_list)\n"
   ]
  },
  {
   "cell_type": "code",
   "execution_count": 33,
   "id": "fb4e5ba2",
   "metadata": {},
   "outputs": [],
   "source": [
    "data = microfin(100000)"
   ]
  },
  {
   "cell_type": "code",
   "execution_count": 34,
   "id": "45b8068e",
   "metadata": {},
   "outputs": [],
   "source": [
    "data.to_csv('customers.csv')"
   ]
  },
  {
   "cell_type": "code",
   "execution_count": null,
   "id": "a6a389f2",
   "metadata": {},
   "outputs": [],
   "source": []
  }
 ],
 "metadata": {
  "kernelspec": {
   "display_name": "Python 3 (ipykernel)",
   "language": "python",
   "name": "python3"
  },
  "language_info": {
   "codemirror_mode": {
    "name": "ipython",
    "version": 3
   },
   "file_extension": ".py",
   "mimetype": "text/x-python",
   "name": "python",
   "nbconvert_exporter": "python",
   "pygments_lexer": "ipython3",
   "version": "3.10.5"
  }
 },
 "nbformat": 4,
 "nbformat_minor": 5
}
